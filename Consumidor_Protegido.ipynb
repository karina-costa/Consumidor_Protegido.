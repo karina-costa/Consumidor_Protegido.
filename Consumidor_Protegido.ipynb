{
  "nbformat": 4,
  "nbformat_minor": 0,
  "metadata": {
    "colab": {
      "provenance": [],
      "authorship_tag": "ABX9TyNdA98hL1Gwasc68qULGGR5",
      "include_colab_link": true
    },
    "kernelspec": {
      "name": "python3",
      "display_name": "Python 3"
    },
    "language_info": {
      "name": "python"
    }
  },
  "cells": [
    {
      "cell_type": "markdown",
      "metadata": {
        "id": "view-in-github",
        "colab_type": "text"
      },
      "source": [
        "<a href=\"https://colab.research.google.com/github/karina-costa/Consumidor_Protegido./blob/main/Consumidor_Protegido.ipynb\" target=\"_parent\"><img src=\"https://colab.research.google.com/assets/colab-badge.svg\" alt=\"Open In Colab\"/></a>"
      ]
    },
    {
      "cell_type": "code",
      "source": [
        "# Importação da biblioteca necessária\n",
        "import google.generativeai as genai\n",
        "from google.colab import userdata\n",
        "\n",
        "# Função para configurar a chave da API\n",
        "def configure_api():\n",
        "    try:\n",
        "        api_key = userdata.get(\"SECRET_KEY\")\n",
        "        if not api_key:\n",
        "            raise ValueError(\"Chave da API não encontrada. Certifique-se de que 'SECRET_KEY' está configurada.\")\n",
        "        genai.configure(api_key=api_key)\n",
        "        print(\"Chave da API configurada com sucesso.\")\n",
        "    except Exception as e:\n",
        "        print(f\"Erro ao configurar a chave da API: {e}\")\n",
        "\n",
        "# Configurando a API\n",
        "configure_api()\n",
        "\n",
        "# Configuração do modelo generativo\n",
        "generation_config = {\n",
        "    \"candidate_count\": 1,\n",
        "    \"temperature\": 0.5,\n",
        "}\n",
        "\n",
        "safety_setting = {\n",
        "    \"HARASSMENT\": \"BLOCK_NONE\",\n",
        "    \"HATE\": \"BLOCK_NONE\",\n",
        "    \"SEXUAL\": \"BLOCK_NONE\",\n",
        "    \"DANGEROUS\": \"BLOCK_NONE\",\n",
        "}\n",
        "\n",
        "model = genai.GenerativeModel(model_name='gemini-1.5-pro-latest',\n",
        "                              generation_config=generation_config,\n",
        "                              safety_settings=safety_setting)\n",
        "\n",
        "chat = model.start_chat(history=[])\n",
        "\n",
        "# Função para obter sugestões jurídicas\n",
        "def get_legal_suggestions():\n",
        "    problem = input(\"Por favor, descreva o seu problema: \").strip()\n",
        "\n",
        "    # Montando o prompt para gerar sugestões legais\n",
        "    prompt = f\"Tenho um problema descrito como: {problem}. Por favor, forneça sugestões e orientações baseadas na legislação brasileira, especialmente no direito civil e do consumidor.\"\n",
        "\n",
        "    response = chat.send_message(prompt)\n",
        "    print(\"\\nSugestões e Orientações Jurídicas:\\n\")\n",
        "    print(response.text, \"\\n\")\n",
        "\n",
        "# Função principal para interação com o usuário\n",
        "def main():\n",
        "    while True:\n",
        "        get_legal_suggestions()\n",
        "\n",
        "        next_action = input(\"Deseja relatar outro caso? (sim/não): \").strip().lower()\n",
        "        if next_action == \"não\" or next_action == \"nao\":\n",
        "            print(\"Finalizando a conversa. Até a próxima!\")\n",
        "            break\n",
        "        elif next_action == \"sim\":\n",
        "            continue\n",
        "        else:\n",
        "            print(\"Opção inválida. Finalizando a conversa.\")\n",
        "            break\n",
        "\n",
        "# Início da interação com o usuário\n",
        "main()\n"
      ],
      "metadata": {
        "id": "U4akm9BlekUI"
      },
      "execution_count": null,
      "outputs": []
    }
  ]
}